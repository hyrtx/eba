{
 "cells": [
  {
   "cell_type": "markdown",
   "metadata": {},
   "source": [
    "# Business Case - Desafio Ifood"
   ]
  },
  {
   "cell_type": "markdown",
   "metadata": {},
   "source": [
    "## Introdução"
   ]
  },
  {
   "cell_type": "markdown",
   "metadata": {},
   "source": [
    "O conjunto de dados é composto por clientes da empresa Ifood com dados sobre:\n",
    "\n",
    "* Perfis de clientes\n",
    "* Preferências do produto\n",
    "* Sucessos/fracassos da campanha\n",
    "* Desempenho do canal\n",
    "\n",
    "O objetivo do Case é fazer uma análise exploratória destes dados e entender melhor o perfil de clientes da base."
   ]
  },
  {
   "cell_type": "markdown",
   "metadata": {},
   "source": [
    "## Entendimento do Case"
   ]
  },
  {
   "cell_type": "markdown",
   "metadata": {},
   "source": [
    "### Objetivo"
   ]
  },
  {
   "cell_type": "markdown",
   "metadata": {},
   "source": [
    "Os dados disponibilizados no case representam dados de campanha do aplicativo Ifood. Neste contexto, serei a pessoa responsável por análisar os dados para a empresa. O meu objetivo é:\n",
    "\n",
    "* Fazer uma análise exploratória sobre os dados disponibilizados.\n",
    "* Entender o perfil dos clientes da base disponibilizada."
   ]
  },
  {
   "cell_type": "markdown",
   "metadata": {},
   "source": [
    "### Premissas"
   ]
  },
  {
   "cell_type": "markdown",
   "metadata": {},
   "source": [
    "## Entendimento dos Dados"
   ]
  },
  {
   "cell_type": "markdown",
   "metadata": {},
   "source": [
    "### Setup Inicial"
   ]
  },
  {
   "cell_type": "markdown",
   "metadata": {},
   "source": [
    "#### Bibliotecas"
   ]
  },
  {
   "cell_type": "code",
   "execution_count": 9,
   "metadata": {},
   "outputs": [],
   "source": [
    "import pandas as pd"
   ]
  },
  {
   "cell_type": "markdown",
   "metadata": {},
   "source": [
    "#### Funções"
   ]
  },
  {
   "cell_type": "code",
   "execution_count": 21,
   "metadata": {},
   "outputs": [],
   "source": [
    "def soma_linhas_nao_nulas_por_prefixo(df: pd.DataFrame, prefixo: str) -> int:\n",
    "    \"\"\"\n",
    "    Soma a quantidade de linhas não nulas de variáveis com prefixo determinado em argumento em um dataframe.\n",
    "\n",
    "    Args:\n",
    "      :df: Dataframe Pandas\n",
    "      :prefixo: Prefixo das variáveis que serão somadas\n",
    "\n",
    "    Returns:\n",
    "      Soma das linhas não nulas das variáveis que contém o mesmo prefixo\n",
    "    \"\"\"\n",
    "\n",
    "    colunas_com_prefixo = [coluna for coluna in df.columns if coluna.startswith(prefixo)]\n",
    "    soma_linhas_nao_nulas = df[colunas_com_prefixo].count().sum()\n",
    "    \n",
    "    return soma_linhas_nao_nulas"
   ]
  },
  {
   "cell_type": "markdown",
   "metadata": {},
   "source": [
    "### Coleta e Inspeção dos Dados"
   ]
  },
  {
   "cell_type": "markdown",
   "metadata": {},
   "source": [
    "Os dados foram disponibilizados em um arquivo `csv`. Vamos carregar esse arquivo em um Dataframe e fazer inspeções para ter um entendimento inicial sobre os dados."
   ]
  },
  {
   "cell_type": "code",
   "execution_count": 10,
   "metadata": {},
   "outputs": [],
   "source": [
    "df = pd.read_csv('data/mkt_data.csv', encoding= 'utf-8')"
   ]
  },
  {
   "cell_type": "code",
   "execution_count": 11,
   "metadata": {},
   "outputs": [
    {
     "data": {
      "text/html": [
       "<div>\n",
       "<style scoped>\n",
       "    .dataframe tbody tr th:only-of-type {\n",
       "        vertical-align: middle;\n",
       "    }\n",
       "\n",
       "    .dataframe tbody tr th {\n",
       "        vertical-align: top;\n",
       "    }\n",
       "\n",
       "    .dataframe thead th {\n",
       "        text-align: right;\n",
       "    }\n",
       "</style>\n",
       "<table border=\"1\" class=\"dataframe\">\n",
       "  <thead>\n",
       "    <tr style=\"text-align: right;\">\n",
       "      <th></th>\n",
       "      <th>Unnamed: 0</th>\n",
       "      <th>Income</th>\n",
       "      <th>Kidhome</th>\n",
       "      <th>Teenhome</th>\n",
       "      <th>Recency</th>\n",
       "      <th>MntWines</th>\n",
       "      <th>MntFruits</th>\n",
       "      <th>MntMeatProducts</th>\n",
       "      <th>MntFishProducts</th>\n",
       "      <th>MntSweetProducts</th>\n",
       "      <th>...</th>\n",
       "      <th>education_Graduation</th>\n",
       "      <th>education_Master</th>\n",
       "      <th>education_PhD</th>\n",
       "      <th>MntTotal</th>\n",
       "      <th>MntRegularProds</th>\n",
       "      <th>AcceptedCmpOverall</th>\n",
       "      <th>marital_status</th>\n",
       "      <th>education_level</th>\n",
       "      <th>kids</th>\n",
       "      <th>expenses</th>\n",
       "    </tr>\n",
       "  </thead>\n",
       "  <tbody>\n",
       "    <tr>\n",
       "      <th>0</th>\n",
       "      <td>0</td>\n",
       "      <td>58138.0</td>\n",
       "      <td>0</td>\n",
       "      <td>0</td>\n",
       "      <td>58</td>\n",
       "      <td>635</td>\n",
       "      <td>88</td>\n",
       "      <td>546</td>\n",
       "      <td>172</td>\n",
       "      <td>88</td>\n",
       "      <td>...</td>\n",
       "      <td>3.0</td>\n",
       "      <td>NaN</td>\n",
       "      <td>NaN</td>\n",
       "      <td>1529</td>\n",
       "      <td>1441</td>\n",
       "      <td>0</td>\n",
       "      <td>Single</td>\n",
       "      <td>Graduation</td>\n",
       "      <td>0</td>\n",
       "      <td>1529</td>\n",
       "    </tr>\n",
       "    <tr>\n",
       "      <th>1</th>\n",
       "      <td>1</td>\n",
       "      <td>46344.0</td>\n",
       "      <td>1</td>\n",
       "      <td>1</td>\n",
       "      <td>38</td>\n",
       "      <td>11</td>\n",
       "      <td>1</td>\n",
       "      <td>6</td>\n",
       "      <td>2</td>\n",
       "      <td>1</td>\n",
       "      <td>...</td>\n",
       "      <td>3.0</td>\n",
       "      <td>NaN</td>\n",
       "      <td>NaN</td>\n",
       "      <td>21</td>\n",
       "      <td>15</td>\n",
       "      <td>0</td>\n",
       "      <td>Single</td>\n",
       "      <td>Graduation</td>\n",
       "      <td>2</td>\n",
       "      <td>21</td>\n",
       "    </tr>\n",
       "    <tr>\n",
       "      <th>2</th>\n",
       "      <td>2</td>\n",
       "      <td>71613.0</td>\n",
       "      <td>0</td>\n",
       "      <td>0</td>\n",
       "      <td>26</td>\n",
       "      <td>426</td>\n",
       "      <td>49</td>\n",
       "      <td>127</td>\n",
       "      <td>111</td>\n",
       "      <td>21</td>\n",
       "      <td>...</td>\n",
       "      <td>3.0</td>\n",
       "      <td>NaN</td>\n",
       "      <td>NaN</td>\n",
       "      <td>734</td>\n",
       "      <td>692</td>\n",
       "      <td>0</td>\n",
       "      <td>Together</td>\n",
       "      <td>Graduation</td>\n",
       "      <td>0</td>\n",
       "      <td>734</td>\n",
       "    </tr>\n",
       "    <tr>\n",
       "      <th>3</th>\n",
       "      <td>3</td>\n",
       "      <td>26646.0</td>\n",
       "      <td>1</td>\n",
       "      <td>0</td>\n",
       "      <td>26</td>\n",
       "      <td>11</td>\n",
       "      <td>4</td>\n",
       "      <td>20</td>\n",
       "      <td>10</td>\n",
       "      <td>3</td>\n",
       "      <td>...</td>\n",
       "      <td>3.0</td>\n",
       "      <td>NaN</td>\n",
       "      <td>NaN</td>\n",
       "      <td>48</td>\n",
       "      <td>43</td>\n",
       "      <td>0</td>\n",
       "      <td>Together</td>\n",
       "      <td>Graduation</td>\n",
       "      <td>1</td>\n",
       "      <td>48</td>\n",
       "    </tr>\n",
       "    <tr>\n",
       "      <th>4</th>\n",
       "      <td>4</td>\n",
       "      <td>58293.0</td>\n",
       "      <td>1</td>\n",
       "      <td>0</td>\n",
       "      <td>94</td>\n",
       "      <td>173</td>\n",
       "      <td>43</td>\n",
       "      <td>118</td>\n",
       "      <td>46</td>\n",
       "      <td>27</td>\n",
       "      <td>...</td>\n",
       "      <td>NaN</td>\n",
       "      <td>NaN</td>\n",
       "      <td>5.0</td>\n",
       "      <td>407</td>\n",
       "      <td>392</td>\n",
       "      <td>0</td>\n",
       "      <td>Married</td>\n",
       "      <td>PhD</td>\n",
       "      <td>1</td>\n",
       "      <td>407</td>\n",
       "    </tr>\n",
       "  </tbody>\n",
       "</table>\n",
       "<p>5 rows × 44 columns</p>\n",
       "</div>"
      ],
      "text/plain": [
       "   Unnamed: 0   Income  Kidhome  Teenhome  Recency  MntWines  MntFruits  \\\n",
       "0           0  58138.0        0         0       58       635         88   \n",
       "1           1  46344.0        1         1       38        11          1   \n",
       "2           2  71613.0        0         0       26       426         49   \n",
       "3           3  26646.0        1         0       26        11          4   \n",
       "4           4  58293.0        1         0       94       173         43   \n",
       "\n",
       "   MntMeatProducts  MntFishProducts  MntSweetProducts  ...  \\\n",
       "0              546              172                88  ...   \n",
       "1                6                2                 1  ...   \n",
       "2              127              111                21  ...   \n",
       "3               20               10                 3  ...   \n",
       "4              118               46                27  ...   \n",
       "\n",
       "   education_Graduation  education_Master  education_PhD  MntTotal  \\\n",
       "0                   3.0               NaN            NaN      1529   \n",
       "1                   3.0               NaN            NaN        21   \n",
       "2                   3.0               NaN            NaN       734   \n",
       "3                   3.0               NaN            NaN        48   \n",
       "4                   NaN               NaN            5.0       407   \n",
       "\n",
       "   MntRegularProds  AcceptedCmpOverall  marital_status  education_level  kids  \\\n",
       "0             1441                   0          Single       Graduation     0   \n",
       "1               15                   0          Single       Graduation     2   \n",
       "2              692                   0        Together       Graduation     0   \n",
       "3               43                   0        Together       Graduation     1   \n",
       "4              392                   0         Married              PhD     1   \n",
       "\n",
       "   expenses  \n",
       "0      1529  \n",
       "1        21  \n",
       "2       734  \n",
       "3        48  \n",
       "4       407  \n",
       "\n",
       "[5 rows x 44 columns]"
      ]
     },
     "execution_count": 11,
     "metadata": {},
     "output_type": "execute_result"
    }
   ],
   "source": [
    "df.head()"
   ]
  },
  {
   "cell_type": "markdown",
   "metadata": {},
   "source": [
    "* Quantidade de linhas e colunas"
   ]
  },
  {
   "cell_type": "code",
   "execution_count": 12,
   "metadata": {},
   "outputs": [
    {
     "name": "stdout",
     "output_type": "stream",
     "text": [
      "O dataframe tem 2205 linhas e 44 colunas\n"
     ]
    }
   ],
   "source": [
    "print(f\"O dataframe tem {df.shape[0]} linhas e {df.shape[1]} colunas\")"
   ]
  },
  {
   "cell_type": "markdown",
   "metadata": {},
   "source": [
    "* Tipos de dados"
   ]
  },
  {
   "cell_type": "code",
   "execution_count": 13,
   "metadata": {},
   "outputs": [
    {
     "name": "stdout",
     "output_type": "stream",
     "text": [
      "<class 'pandas.core.frame.DataFrame'>\n",
      "RangeIndex: 2205 entries, 0 to 2204\n",
      "Data columns (total 44 columns):\n",
      " #   Column                Non-Null Count  Dtype  \n",
      "---  ------                --------------  -----  \n",
      " 0   Unnamed: 0            2205 non-null   int64  \n",
      " 1   Income                2205 non-null   float64\n",
      " 2   Kidhome               2205 non-null   int64  \n",
      " 3   Teenhome              2205 non-null   int64  \n",
      " 4   Recency               2205 non-null   int64  \n",
      " 5   MntWines              2205 non-null   int64  \n",
      " 6   MntFruits             2205 non-null   int64  \n",
      " 7   MntMeatProducts       2205 non-null   int64  \n",
      " 8   MntFishProducts       2205 non-null   int64  \n",
      " 9   MntSweetProducts      2205 non-null   int64  \n",
      " 10  MntGoldProds          2205 non-null   int64  \n",
      " 11  NumDealsPurchases     2205 non-null   int64  \n",
      " 12  NumWebPurchases       2205 non-null   int64  \n",
      " 13  NumCatalogPurchases   2205 non-null   int64  \n",
      " 14  NumStorePurchases     2205 non-null   int64  \n",
      " 15  NumWebVisitsMonth     2205 non-null   int64  \n",
      " 16  AcceptedCmp3          2205 non-null   int64  \n",
      " 17  AcceptedCmp4          2205 non-null   int64  \n",
      " 18  AcceptedCmp5          2205 non-null   int64  \n",
      " 19  AcceptedCmp1          2205 non-null   int64  \n",
      " 20  AcceptedCmp2          2205 non-null   int64  \n",
      " 21  Complain              2205 non-null   int64  \n",
      " 22  Z_CostContact         2205 non-null   int64  \n",
      " 23  Z_Revenue             2205 non-null   int64  \n",
      " 24  Response              2205 non-null   int64  \n",
      " 25  Age                   2205 non-null   int64  \n",
      " 26  Customer_Days         2205 non-null   int64  \n",
      " 27  marital_Divorced      230 non-null    float64\n",
      " 28  marital_Married       854 non-null    float64\n",
      " 29  marital_Single        477 non-null    float64\n",
      " 30  marital_Together      568 non-null    float64\n",
      " 31  marital_Widow         76 non-null     float64\n",
      " 32  education_2n Cycle    198 non-null    float64\n",
      " 33  education_Basic       54 non-null     float64\n",
      " 34  education_Graduation  1113 non-null   float64\n",
      " 35  education_Master      364 non-null    float64\n",
      " 36  education_PhD         476 non-null    float64\n",
      " 37  MntTotal              2205 non-null   int64  \n",
      " 38  MntRegularProds       2205 non-null   int64  \n",
      " 39  AcceptedCmpOverall    2205 non-null   int64  \n",
      " 40  marital_status        2205 non-null   object \n",
      " 41  education_level       2205 non-null   object \n",
      " 42  kids                  2205 non-null   int64  \n",
      " 43  expenses              2205 non-null   int64  \n",
      "dtypes: float64(11), int64(31), object(2)\n",
      "memory usage: 758.1+ KB\n"
     ]
    }
   ],
   "source": [
    "df.info()"
   ]
  },
  {
   "cell_type": "markdown",
   "metadata": {},
   "source": [
    "As únicas variáveis que tem valores nulos, são as variáveis com prefixo marital e education, que se tratam de Estado Cívil e Grau de Educação. \n",
    "\n",
    "Vamos validar a hipótese de que a soma das variáveis com o mesmo prefixo vai retornar 2205, o número total de linhas. Para isso foi criada a função `soma_linhas_nao_nulas_por_prefixo` no **Setup Inicial** do projeto."
   ]
  },
  {
   "cell_type": "code",
   "execution_count": 27,
   "metadata": {},
   "outputs": [
    {
     "name": "stdout",
     "output_type": "stream",
     "text": [
      "Linhas prefixo marital: 2205\n",
      "Linhas prefixo education: 2205\n"
     ]
    }
   ],
   "source": [
    "print(f\"Linhas prefixo marital: {soma_linhas_nao_nulas_por_prefixo(df, 'marital') - 2205}\")\n",
    "print(f\"Linhas prefixo education: {soma_linhas_nao_nulas_por_prefixo(df, 'education') - 2205}\")\n"
   ]
  }
 ],
 "metadata": {
  "kernelspec": {
   "display_name": "base",
   "language": "python",
   "name": "python3"
  },
  "language_info": {
   "codemirror_mode": {
    "name": "ipython",
    "version": 3
   },
   "file_extension": ".py",
   "mimetype": "text/x-python",
   "name": "python",
   "nbconvert_exporter": "python",
   "pygments_lexer": "ipython3",
   "version": "3.11.5"
  }
 },
 "nbformat": 4,
 "nbformat_minor": 2
}
